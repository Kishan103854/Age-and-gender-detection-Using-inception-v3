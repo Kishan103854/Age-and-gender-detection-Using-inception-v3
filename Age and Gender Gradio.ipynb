{
 "cells": [
  {
   "cell_type": "code",
   "execution_count": 3,
   "id": "85781192",
   "metadata": {},
   "outputs": [],
   "source": [
    "import gradio as gr\n",
    "import numpy as np\n",
    "import matplotlib.pyplot as plt"
   ]
  },
  {
   "cell_type": "code",
   "execution_count": 4,
   "id": "1dcc5410",
   "metadata": {},
   "outputs": [],
   "source": [
    "from tensorflow.keras.models import load_model\n",
    "MODEL_PATH = \"IV35_Enhanced3.h5\"\n",
    "model = load_model(MODEL_PATH)\n",
    "IMG_SIZE = (224, 224)"
   ]
  },
  {
   "cell_type": "code",
   "execution_count": 5,
   "id": "018b1e11",
   "metadata": {},
   "outputs": [],
   "source": [
    "from tensorflow.keras.preprocessing import image\n",
    "from tensorflow.keras.applications.inception_v3 import preprocess_input\n",
    "def load_and_preprocess_image(img_path):\n",
    "    try:\n",
    "        img = image.load_img(img_path, target_size=IMG_SIZE)\n",
    "        img_array = image.img_to_array(img)\n",
    "        img_array = np.expand_dims(img_array, axis=0)\n",
    "        img_array = preprocess_input(img_array)\n",
    "        return img_array\n",
    "    except Exception as e:\n",
    "        print(f\"Error loading or preprocessing image: {e}\")\n",
    "        return None"
   ]
  },
  {
   "cell_type": "code",
   "execution_count": 6,
   "id": "5fb4766f",
   "metadata": {},
   "outputs": [],
   "source": [
    "def predict_image(img):\n",
    "    img_array = load_and_preprocess_image(img)\n",
    "    if img_array is None:\n",
    "        return \"Error loading image\"\n",
    "\n",
    "    predictions = model.predict(img_array)\n",
    "    gender_prob = predictions[0][0][0]\n",
    "    age_probabilities = predictions[1][0]\n",
    "\n",
    "    gender = \"Male\" if gender_prob <= 0.5 else \"Female\"\n",
    "    age_category = np.argmax(age_probabilities)\n",
    "\n",
    "    result = {\n",
    "        'gender': gender,\n",
    "        'gender_probability': float(gender_prob),\n",
    "        'age_category': int(age_category),\n",
    "        'age_range': f\"{age_category*5}-{age_category*5 + 4}\"\n",
    "    }\n",
    "\n",
    "    return result\n"
   ]
  },
  {
   "cell_type": "code",
   "execution_count": 7,
   "id": "8ff3ae6b",
   "metadata": {},
   "outputs": [
    {
     "name": "stdout",
     "output_type": "stream",
     "text": [
      "Running on local URL:  http://127.0.0.1:7861\n",
      "\n",
      "To create a public link, set `share=True` in `launch()`.\n"
     ]
    },
    {
     "data": {
      "text/html": [
       "<div><iframe src=\"http://127.0.0.1:7861/\" width=\"100%\" height=\"500\" allow=\"autoplay; camera; microphone; clipboard-read; clipboard-write;\" frameborder=\"0\" allowfullscreen></iframe></div>"
      ],
      "text/plain": [
       "<IPython.core.display.HTML object>"
      ]
     },
     "metadata": {},
     "output_type": "display_data"
    },
    {
     "data": {
      "text/plain": []
     },
     "execution_count": 7,
     "metadata": {},
     "output_type": "execute_result"
    },
    {
     "name": "stdout",
     "output_type": "stream",
     "text": [
      "1/1 [==============================] - 2s 2s/step\n"
     ]
    }
   ],
   "source": [
    "iface = gr.Interface(\n",
    "    fn=predict_image,\n",
    "    inputs=gr.components.Image(type=\"filepath\"),\n",
    "    outputs=\"json\",\n",
    "    title=\"Age and Gender Prediction\",\n",
    "    description=\"Upload an image to predict age and gender.\"\n",
    ")\n",
    "\n",
    "# Launch the interface\n",
    "iface.launch()"
   ]
  },
  {
   "cell_type": "code",
   "execution_count": null,
   "id": "a1b7a8db",
   "metadata": {},
   "outputs": [],
   "source": []
  }
 ],
 "metadata": {
  "kernelspec": {
   "display_name": "Python 3 (ipykernel)",
   "language": "python",
   "name": "python3"
  },
  "language_info": {
   "codemirror_mode": {
    "name": "ipython",
    "version": 3
   },
   "file_extension": ".py",
   "mimetype": "text/x-python",
   "name": "python",
   "nbconvert_exporter": "python",
   "pygments_lexer": "ipython3",
   "version": "3.11.5"
  }
 },
 "nbformat": 4,
 "nbformat_minor": 5
}
